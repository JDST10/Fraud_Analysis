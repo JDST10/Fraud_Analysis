{
 "cells": [
  {
   "cell_type": "code",
   "execution_count": 1,
   "metadata": {},
   "outputs": [],
   "source": [
    "import pandas as pd\n",
    "import numpy as np\n",
    "import matplotlib.pyplot as plt\n",
    "import seaborn as sns\n",
    "\n",
    "# Native libraries\n",
    "import os\n",
    "import math\n",
    "\n",
    "\n",
    "import warnings\n",
    "warnings.filterwarnings('ignore')"
   ]
  },
  {
   "cell_type": "code",
   "execution_count": 2,
   "metadata": {},
   "outputs": [],
   "source": [
    "# Read in the data\n",
    "data = pd.read_csv(\"Credit_Card/fraudTest.csv\")\n",
    "data.drop( columns= 'Unnamed: 0', inplace= True)\n",
    "data['trans_date_trans_time'] = pd.to_datetime(data['trans_date_trans_time'])\n"
   ]
  },
  {
   "cell_type": "code",
   "execution_count": 3,
   "metadata": {},
   "outputs": [
    {
     "data": {
      "text/plain": [
       "Index(['trans_date_trans_time', 'cc_num', 'merchant', 'category', 'amt',\n",
       "       'first', 'last', 'gender', 'street', 'city', 'state', 'zip', 'lat',\n",
       "       'long', 'city_pop', 'job', 'dob', 'trans_num', 'unix_time', 'merch_lat',\n",
       "       'merch_long', 'is_fraud'],\n",
       "      dtype='object')"
      ]
     },
     "execution_count": 3,
     "metadata": {},
     "output_type": "execute_result"
    }
   ],
   "source": [
    "data.columns"
   ]
  },
  {
   "cell_type": "code",
   "execution_count": 4,
   "metadata": {},
   "outputs": [],
   "source": [
    "#Removing not important data\n",
    "data.drop( columns= ['unix_time','zip','city_pop','trans_num','street','last','first'], inplace= True)"
   ]
  },
  {
   "cell_type": "code",
   "execution_count": 5,
   "metadata": {},
   "outputs": [
    {
     "data": {
      "text/html": [
       "<div>\n",
       "<style scoped>\n",
       "    .dataframe tbody tr th:only-of-type {\n",
       "        vertical-align: middle;\n",
       "    }\n",
       "\n",
       "    .dataframe tbody tr th {\n",
       "        vertical-align: top;\n",
       "    }\n",
       "\n",
       "    .dataframe thead th {\n",
       "        text-align: right;\n",
       "    }\n",
       "</style>\n",
       "<table border=\"1\" class=\"dataframe\">\n",
       "  <thead>\n",
       "    <tr style=\"text-align: right;\">\n",
       "      <th></th>\n",
       "      <th>trans_date_trans_time</th>\n",
       "      <th>cc_num</th>\n",
       "      <th>merchant</th>\n",
       "      <th>category</th>\n",
       "      <th>amt</th>\n",
       "      <th>gender</th>\n",
       "      <th>city</th>\n",
       "      <th>state</th>\n",
       "      <th>lat</th>\n",
       "      <th>long</th>\n",
       "      <th>job</th>\n",
       "      <th>dob</th>\n",
       "      <th>merch_lat</th>\n",
       "      <th>merch_long</th>\n",
       "      <th>is_fraud</th>\n",
       "    </tr>\n",
       "  </thead>\n",
       "  <tbody>\n",
       "    <tr>\n",
       "      <th>0</th>\n",
       "      <td>2020-06-21 12:14:25</td>\n",
       "      <td>2291163933867244</td>\n",
       "      <td>fraud_Kirlin and Sons</td>\n",
       "      <td>personal_care</td>\n",
       "      <td>2.86</td>\n",
       "      <td>M</td>\n",
       "      <td>Columbia</td>\n",
       "      <td>SC</td>\n",
       "      <td>33.9659</td>\n",
       "      <td>-80.9355</td>\n",
       "      <td>Mechanical engineer</td>\n",
       "      <td>1968-03-19</td>\n",
       "      <td>33.986391</td>\n",
       "      <td>-81.200714</td>\n",
       "      <td>0</td>\n",
       "    </tr>\n",
       "    <tr>\n",
       "      <th>1</th>\n",
       "      <td>2020-06-21 12:14:33</td>\n",
       "      <td>3573030041201292</td>\n",
       "      <td>fraud_Sporer-Keebler</td>\n",
       "      <td>personal_care</td>\n",
       "      <td>29.84</td>\n",
       "      <td>F</td>\n",
       "      <td>Altonah</td>\n",
       "      <td>UT</td>\n",
       "      <td>40.3207</td>\n",
       "      <td>-110.4360</td>\n",
       "      <td>Sales professional, IT</td>\n",
       "      <td>1990-01-17</td>\n",
       "      <td>39.450498</td>\n",
       "      <td>-109.960431</td>\n",
       "      <td>0</td>\n",
       "    </tr>\n",
       "  </tbody>\n",
       "</table>\n",
       "</div>"
      ],
      "text/plain": [
       "  trans_date_trans_time            cc_num               merchant  \\\n",
       "0   2020-06-21 12:14:25  2291163933867244  fraud_Kirlin and Sons   \n",
       "1   2020-06-21 12:14:33  3573030041201292   fraud_Sporer-Keebler   \n",
       "\n",
       "        category    amt gender      city state      lat      long  \\\n",
       "0  personal_care   2.86      M  Columbia    SC  33.9659  -80.9355   \n",
       "1  personal_care  29.84      F   Altonah    UT  40.3207 -110.4360   \n",
       "\n",
       "                      job         dob  merch_lat  merch_long  is_fraud  \n",
       "0     Mechanical engineer  1968-03-19  33.986391  -81.200714         0  \n",
       "1  Sales professional, IT  1990-01-17  39.450498 -109.960431         0  "
      ]
     },
     "execution_count": 5,
     "metadata": {},
     "output_type": "execute_result"
    }
   ],
   "source": [
    "data.head(2)"
   ]
  },
  {
   "cell_type": "markdown",
   "metadata": {},
   "source": [
    "Since long and lat are not really usable, I create the distance long^2 + lat^2 = d^2"
   ]
  },
  {
   "cell_type": "code",
   "execution_count": 6,
   "metadata": {},
   "outputs": [],
   "source": [
    "n = 2\n",
    "data['user_d'] = np.sqrt( np.power( data['long'],n) + np.power( data['lat'],n) )\n",
    "data['local_d'] = np.sqrt( np.power( data['merch_long'],n) + np.power( data['merch_lat'],n) )\n",
    "\n",
    "data['distance_user_local'] = np.sqrt( np.power( data['merch_long'] - data['long'],n) + np.power( data['merch_lat'] -  data['lat'],n) )"
   ]
  },
  {
   "cell_type": "code",
   "execution_count": 7,
   "metadata": {},
   "outputs": [],
   "source": [
    "data['age'] = pd.to_datetime('today').year - pd.to_datetime( data['dob'],format='%Y-%m-%d').dt.year"
   ]
  },
  {
   "cell_type": "code",
   "execution_count": 8,
   "metadata": {},
   "outputs": [],
   "source": [
    "data.drop( columns= ['long','lat','merch_long','merch_lat','dob','merchant','user_d','local_d',], inplace= True)"
   ]
  },
  {
   "cell_type": "code",
   "execution_count": 9,
   "metadata": {},
   "outputs": [],
   "source": [
    "data = data.sort_values(by=['cc_num','trans_date_trans_time'])\n",
    "\n",
    "data['day_of_year'] = data['trans_date_trans_time'].dt.day_of_year\n",
    "data['month_of_year'] = data['trans_date_trans_time'].dt.month\n",
    "    "
   ]
  },
  {
   "cell_type": "code",
   "execution_count": 10,
   "metadata": {},
   "outputs": [],
   "source": [
    "#Removing the first month of transactions since the first month do not provide enough behavioral data\n",
    "data = data.drop(data[data['month_of_year'] == 6].index)"
   ]
  },
  {
   "cell_type": "code",
   "execution_count": 11,
   "metadata": {},
   "outputs": [],
   "source": [
    "data.reset_index(drop=True, inplace= True)"
   ]
  },
  {
   "cell_type": "code",
   "execution_count": 12,
   "metadata": {},
   "outputs": [],
   "source": [
    "data['seconds_between_transaction'] = data['trans_date_trans_time'] - data['trans_date_trans_time'].shift(1)\n",
    "data['seconds_between_transaction'] = data['seconds_between_transaction'].dt.total_seconds()\n",
    "data['seconds_between_transaction'] = data['seconds_between_transaction'].fillna(0)"
   ]
  },
  {
   "cell_type": "code",
   "execution_count": 13,
   "metadata": {},
   "outputs": [],
   "source": [
    "for cc in data['cc_num'].unique():\n",
    "    cc_mask = data['cc_num'] == cc\n",
    "    \n",
    "    for day in data[cc_mask]['day_of_year'].unique():\n",
    "        day_mask = (cc_mask) & (data['day_of_year'] == day)\n",
    "        \n",
    "        # Find the indices where the condition is True\n",
    "        indices = data.index[day_mask][0]\n",
    "        \n",
    "        # Update the 'seconds_between_transaction' column directly for the selected indices\n",
    "        data.loc[indices, 'seconds_between_transaction'] = 0\n"
   ]
  },
  {
   "cell_type": "code",
   "execution_count": 14,
   "metadata": {},
   "outputs": [],
   "source": [
    "data.drop(columns=['month_of_year','day_of_year'], inplace= True)\n",
    "data.drop(columns=['job','city','state'], inplace= True)"
   ]
  },
  {
   "cell_type": "code",
   "execution_count": 15,
   "metadata": {},
   "outputs": [
    {
     "data": {
      "text/html": [
       "<div>\n",
       "<style scoped>\n",
       "    .dataframe tbody tr th:only-of-type {\n",
       "        vertical-align: middle;\n",
       "    }\n",
       "\n",
       "    .dataframe tbody tr th {\n",
       "        vertical-align: top;\n",
       "    }\n",
       "\n",
       "    .dataframe thead th {\n",
       "        text-align: right;\n",
       "    }\n",
       "</style>\n",
       "<table border=\"1\" class=\"dataframe\">\n",
       "  <thead>\n",
       "    <tr style=\"text-align: right;\">\n",
       "      <th></th>\n",
       "      <th>trans_date_trans_time</th>\n",
       "      <th>cc_num</th>\n",
       "      <th>category</th>\n",
       "      <th>amt</th>\n",
       "      <th>gender</th>\n",
       "      <th>is_fraud</th>\n",
       "      <th>distance_user_local</th>\n",
       "      <th>age</th>\n",
       "      <th>seconds_between_transaction</th>\n",
       "    </tr>\n",
       "  </thead>\n",
       "  <tbody>\n",
       "    <tr>\n",
       "      <th>0</th>\n",
       "      <td>2020-07-01 18:05:37</td>\n",
       "      <td>60416207185</td>\n",
       "      <td>shopping_pos</td>\n",
       "      <td>9.33</td>\n",
       "      <td>F</td>\n",
       "      <td>0</td>\n",
       "      <td>1.007351</td>\n",
       "      <td>38</td>\n",
       "      <td>0.0</td>\n",
       "    </tr>\n",
       "    <tr>\n",
       "      <th>1</th>\n",
       "      <td>2020-07-01 18:14:59</td>\n",
       "      <td>60416207185</td>\n",
       "      <td>personal_care</td>\n",
       "      <td>1.79</td>\n",
       "      <td>F</td>\n",
       "      <td>0</td>\n",
       "      <td>0.031852</td>\n",
       "      <td>38</td>\n",
       "      <td>562.0</td>\n",
       "    </tr>\n",
       "    <tr>\n",
       "      <th>2</th>\n",
       "      <td>2020-07-01 21:23:57</td>\n",
       "      <td>60416207185</td>\n",
       "      <td>home</td>\n",
       "      <td>14.65</td>\n",
       "      <td>F</td>\n",
       "      <td>0</td>\n",
       "      <td>0.979536</td>\n",
       "      <td>38</td>\n",
       "      <td>11338.0</td>\n",
       "    </tr>\n",
       "    <tr>\n",
       "      <th>3</th>\n",
       "      <td>2020-07-01 21:28:33</td>\n",
       "      <td>60416207185</td>\n",
       "      <td>shopping_net</td>\n",
       "      <td>8.82</td>\n",
       "      <td>F</td>\n",
       "      <td>0</td>\n",
       "      <td>0.465446</td>\n",
       "      <td>38</td>\n",
       "      <td>276.0</td>\n",
       "    </tr>\n",
       "    <tr>\n",
       "      <th>4</th>\n",
       "      <td>2020-07-02 12:51:21</td>\n",
       "      <td>60416207185</td>\n",
       "      <td>travel</td>\n",
       "      <td>4.86</td>\n",
       "      <td>F</td>\n",
       "      <td>0</td>\n",
       "      <td>0.554224</td>\n",
       "      <td>38</td>\n",
       "      <td>0.0</td>\n",
       "    </tr>\n",
       "  </tbody>\n",
       "</table>\n",
       "</div>"
      ],
      "text/plain": [
       "  trans_date_trans_time       cc_num       category    amt gender  is_fraud  \\\n",
       "0   2020-07-01 18:05:37  60416207185   shopping_pos   9.33      F         0   \n",
       "1   2020-07-01 18:14:59  60416207185  personal_care   1.79      F         0   \n",
       "2   2020-07-01 21:23:57  60416207185           home  14.65      F         0   \n",
       "3   2020-07-01 21:28:33  60416207185   shopping_net   8.82      F         0   \n",
       "4   2020-07-02 12:51:21  60416207185         travel   4.86      F         0   \n",
       "\n",
       "   distance_user_local  age  seconds_between_transaction  \n",
       "0             1.007351   38                          0.0  \n",
       "1             0.031852   38                        562.0  \n",
       "2             0.979536   38                      11338.0  \n",
       "3             0.465446   38                        276.0  \n",
       "4             0.554224   38                          0.0  "
      ]
     },
     "execution_count": 15,
     "metadata": {},
     "output_type": "execute_result"
    }
   ],
   "source": [
    "data.head(5)"
   ]
  },
  {
   "cell_type": "code",
   "execution_count": 16,
   "metadata": {},
   "outputs": [
    {
     "data": {
      "text/plain": [
       "array([[<Axes: title={'center': 'trans_date_trans_time'}>,\n",
       "        <Axes: title={'center': 'cc_num'}>,\n",
       "        <Axes: title={'center': 'amt'}>],\n",
       "       [<Axes: title={'center': 'is_fraud'}>,\n",
       "        <Axes: title={'center': 'distance_user_local'}>,\n",
       "        <Axes: title={'center': 'age'}>],\n",
       "       [<Axes: title={'center': 'seconds_between_transaction'}>,\n",
       "        <Axes: >, <Axes: >]], dtype=object)"
      ]
     },
     "execution_count": 16,
     "metadata": {},
     "output_type": "execute_result"
    },
    {
     "data": {
      "image/png": "[encoded data removed]",
      "text/plain": [
       "<Figure size 1000x1000 with 9 Axes>"
      ]
     },
     "metadata": {},
     "output_type": "display_data"
    }
   ],
   "source": [
    "data.hist(figsize=(10,10))"
   ]
  },
  {
   "cell_type": "markdown",
   "metadata": {},
   "source": [
    "Check histplots"
   ]
  },
  {
   "cell_type": "code",
   "execution_count": 17,
   "metadata": {},
   "outputs": [],
   "source": [
    "df = data.copy()"
   ]
  },
  {
   "cell_type": "code",
   "execution_count": 18,
   "metadata": {},
   "outputs": [
    {
     "data": {
      "text/html": [
       "<div>\n",
       "<style scoped>\n",
       "    .dataframe tbody tr th:only-of-type {\n",
       "        vertical-align: middle;\n",
       "    }\n",
       "\n",
       "    .dataframe tbody tr th {\n",
       "        vertical-align: top;\n",
       "    }\n",
       "\n",
       "    .dataframe thead th {\n",
       "        text-align: right;\n",
       "    }\n",
       "</style>\n",
       "<table border=\"1\" class=\"dataframe\">\n",
       "  <thead>\n",
       "    <tr style=\"text-align: right;\">\n",
       "      <th></th>\n",
       "      <th>trans_date_trans_time</th>\n",
       "      <th>cc_num</th>\n",
       "      <th>category</th>\n",
       "      <th>amt</th>\n",
       "      <th>gender</th>\n",
       "      <th>is_fraud</th>\n",
       "      <th>distance_user_local</th>\n",
       "      <th>age</th>\n",
       "      <th>seconds_between_transaction</th>\n",
       "    </tr>\n",
       "  </thead>\n",
       "  <tbody>\n",
       "    <tr>\n",
       "      <th>0</th>\n",
       "      <td>2020-07-01 18:05:37</td>\n",
       "      <td>60416207185</td>\n",
       "      <td>shopping_pos</td>\n",
       "      <td>9.33</td>\n",
       "      <td>F</td>\n",
       "      <td>0</td>\n",
       "      <td>1.007351</td>\n",
       "      <td>38</td>\n",
       "      <td>0.0</td>\n",
       "    </tr>\n",
       "    <tr>\n",
       "      <th>1</th>\n",
       "      <td>2020-07-01 18:14:59</td>\n",
       "      <td>60416207185</td>\n",
       "      <td>personal_care</td>\n",
       "      <td>1.79</td>\n",
       "      <td>F</td>\n",
       "      <td>0</td>\n",
       "      <td>0.031852</td>\n",
       "      <td>38</td>\n",
       "      <td>562.0</td>\n",
       "    </tr>\n",
       "    <tr>\n",
       "      <th>2</th>\n",
       "      <td>2020-07-01 21:23:57</td>\n",
       "      <td>60416207185</td>\n",
       "      <td>home</td>\n",
       "      <td>14.65</td>\n",
       "      <td>F</td>\n",
       "      <td>0</td>\n",
       "      <td>0.979536</td>\n",
       "      <td>38</td>\n",
       "      <td>11338.0</td>\n",
       "    </tr>\n",
       "    <tr>\n",
       "      <th>3</th>\n",
       "      <td>2020-07-01 21:28:33</td>\n",
       "      <td>60416207185</td>\n",
       "      <td>shopping_net</td>\n",
       "      <td>8.82</td>\n",
       "      <td>F</td>\n",
       "      <td>0</td>\n",
       "      <td>0.465446</td>\n",
       "      <td>38</td>\n",
       "      <td>276.0</td>\n",
       "    </tr>\n",
       "    <tr>\n",
       "      <th>4</th>\n",
       "      <td>2020-07-02 12:51:21</td>\n",
       "      <td>60416207185</td>\n",
       "      <td>travel</td>\n",
       "      <td>4.86</td>\n",
       "      <td>F</td>\n",
       "      <td>0</td>\n",
       "      <td>0.554224</td>\n",
       "      <td>38</td>\n",
       "      <td>0.0</td>\n",
       "    </tr>\n",
       "  </tbody>\n",
       "</table>\n",
       "</div>"
      ],
      "text/plain": [
       "  trans_date_trans_time       cc_num       category    amt gender  is_fraud  \\\n",
       "0   2020-07-01 18:05:37  60416207185   shopping_pos   9.33      F         0   \n",
       "1   2020-07-01 18:14:59  60416207185  personal_care   1.79      F         0   \n",
       "2   2020-07-01 21:23:57  60416207185           home  14.65      F         0   \n",
       "3   2020-07-01 21:28:33  60416207185   shopping_net   8.82      F         0   \n",
       "4   2020-07-02 12:51:21  60416207185         travel   4.86      F         0   \n",
       "\n",
       "   distance_user_local  age  seconds_between_transaction  \n",
       "0             1.007351   38                          0.0  \n",
       "1             0.031852   38                        562.0  \n",
       "2             0.979536   38                      11338.0  \n",
       "3             0.465446   38                        276.0  \n",
       "4             0.554224   38                          0.0  "
      ]
     },
     "execution_count": 18,
     "metadata": {},
     "output_type": "execute_result"
    }
   ],
   "source": [
    "df.head()"
   ]
  },
  {
   "cell_type": "code",
   "execution_count": 19,
   "metadata": {},
   "outputs": [],
   "source": [
    "from sklearn.preprocessing import OneHotEncoder"
   ]
  },
  {
   "cell_type": "code",
   "execution_count": 20,
   "metadata": {},
   "outputs": [],
   "source": [
    "\n",
    "cat_columns = ['gender','category']\n",
    "category_data = df[cat_columns]\n",
    "\n",
    "# Initialize the OneHotEncoder\n",
    "encoder = OneHotEncoder(sparse=False, drop='first')  # drop='first' to avoid the dummy variable trap\n",
    "\n",
    "# Fit and transform the categorical column\n",
    "encoded_data = encoder.fit_transform(category_data)"
   ]
  },
  {
   "cell_type": "code",
   "execution_count": 21,
   "metadata": {},
   "outputs": [],
   "source": [
    "# Create a DataFrame with the encoded values and column names\n",
    "encoded_df = pd.DataFrame(encoded_data, columns= encoder.get_feature_names_out(cat_columns))\n"
   ]
  },
  {
   "cell_type": "code",
   "execution_count": 23,
   "metadata": {},
   "outputs": [],
   "source": [
    "df = pd.concat([df, encoded_df], axis=1)\n",
    "\n",
    "df = df.drop(cat_columns, axis=1)"
   ]
  },
  {
   "cell_type": "code",
   "execution_count": 39,
   "metadata": {},
   "outputs": [
    {
     "data": {
      "text/html": [
       "<div>\n",
       "<style scoped>\n",
       "    .dataframe tbody tr th:only-of-type {\n",
       "        vertical-align: middle;\n",
       "    }\n",
       "\n",
       "    .dataframe tbody tr th {\n",
       "        vertical-align: top;\n",
       "    }\n",
       "\n",
       "    .dataframe thead th {\n",
       "        text-align: right;\n",
       "    }\n",
       "</style>\n",
       "<table border=\"1\" class=\"dataframe\">\n",
       "  <thead>\n",
       "    <tr style=\"text-align: right;\">\n",
       "      <th></th>\n",
       "      <th>amt</th>\n",
       "      <th>is_fraud</th>\n",
       "      <th>distance_user_local</th>\n",
       "      <th>age</th>\n",
       "      <th>seconds_between_transaction</th>\n",
       "      <th>gender_M</th>\n",
       "      <th>category_food_dining</th>\n",
       "      <th>category_gas_transport</th>\n",
       "      <th>category_grocery_net</th>\n",
       "      <th>category_grocery_pos</th>\n",
       "      <th>...</th>\n",
       "      <th>category_grocery_pos</th>\n",
       "      <th>category_health_fitness</th>\n",
       "      <th>category_home</th>\n",
       "      <th>category_kids_pets</th>\n",
       "      <th>category_misc_net</th>\n",
       "      <th>category_misc_pos</th>\n",
       "      <th>category_personal_care</th>\n",
       "      <th>category_shopping_net</th>\n",
       "      <th>category_shopping_pos</th>\n",
       "      <th>category_travel</th>\n",
       "    </tr>\n",
       "  </thead>\n",
       "  <tbody>\n",
       "    <tr>\n",
       "      <th>0</th>\n",
       "      <td>9.33</td>\n",
       "      <td>0</td>\n",
       "      <td>1.007351</td>\n",
       "      <td>38</td>\n",
       "      <td>0.0</td>\n",
       "      <td>0.0</td>\n",
       "      <td>0.0</td>\n",
       "      <td>0.0</td>\n",
       "      <td>0.0</td>\n",
       "      <td>0.0</td>\n",
       "      <td>...</td>\n",
       "      <td>0.0</td>\n",
       "      <td>0.0</td>\n",
       "      <td>0.0</td>\n",
       "      <td>0.0</td>\n",
       "      <td>0.0</td>\n",
       "      <td>0.0</td>\n",
       "      <td>0.0</td>\n",
       "      <td>0.0</td>\n",
       "      <td>1.0</td>\n",
       "      <td>0.0</td>\n",
       "    </tr>\n",
       "    <tr>\n",
       "      <th>1</th>\n",
       "      <td>1.79</td>\n",
       "      <td>0</td>\n",
       "      <td>0.031852</td>\n",
       "      <td>38</td>\n",
       "      <td>562.0</td>\n",
       "      <td>0.0</td>\n",
       "      <td>0.0</td>\n",
       "      <td>0.0</td>\n",
       "      <td>0.0</td>\n",
       "      <td>0.0</td>\n",
       "      <td>...</td>\n",
       "      <td>0.0</td>\n",
       "      <td>0.0</td>\n",
       "      <td>0.0</td>\n",
       "      <td>0.0</td>\n",
       "      <td>0.0</td>\n",
       "      <td>0.0</td>\n",
       "      <td>1.0</td>\n",
       "      <td>0.0</td>\n",
       "      <td>0.0</td>\n",
       "      <td>0.0</td>\n",
       "    </tr>\n",
       "    <tr>\n",
       "      <th>2</th>\n",
       "      <td>14.65</td>\n",
       "      <td>0</td>\n",
       "      <td>0.979536</td>\n",
       "      <td>38</td>\n",
       "      <td>11338.0</td>\n",
       "      <td>0.0</td>\n",
       "      <td>0.0</td>\n",
       "      <td>0.0</td>\n",
       "      <td>0.0</td>\n",
       "      <td>0.0</td>\n",
       "      <td>...</td>\n",
       "      <td>0.0</td>\n",
       "      <td>0.0</td>\n",
       "      <td>1.0</td>\n",
       "      <td>0.0</td>\n",
       "      <td>0.0</td>\n",
       "      <td>0.0</td>\n",
       "      <td>0.0</td>\n",
       "      <td>0.0</td>\n",
       "      <td>0.0</td>\n",
       "      <td>0.0</td>\n",
       "    </tr>\n",
       "    <tr>\n",
       "      <th>3</th>\n",
       "      <td>8.82</td>\n",
       "      <td>0</td>\n",
       "      <td>0.465446</td>\n",
       "      <td>38</td>\n",
       "      <td>276.0</td>\n",
       "      <td>0.0</td>\n",
       "      <td>0.0</td>\n",
       "      <td>0.0</td>\n",
       "      <td>0.0</td>\n",
       "      <td>0.0</td>\n",
       "      <td>...</td>\n",
       "      <td>0.0</td>\n",
       "      <td>0.0</td>\n",
       "      <td>0.0</td>\n",
       "      <td>0.0</td>\n",
       "      <td>0.0</td>\n",
       "      <td>0.0</td>\n",
       "      <td>0.0</td>\n",
       "      <td>1.0</td>\n",
       "      <td>0.0</td>\n",
       "      <td>0.0</td>\n",
       "    </tr>\n",
       "    <tr>\n",
       "      <th>4</th>\n",
       "      <td>4.86</td>\n",
       "      <td>0</td>\n",
       "      <td>0.554224</td>\n",
       "      <td>38</td>\n",
       "      <td>0.0</td>\n",
       "      <td>0.0</td>\n",
       "      <td>0.0</td>\n",
       "      <td>0.0</td>\n",
       "      <td>0.0</td>\n",
       "      <td>0.0</td>\n",
       "      <td>...</td>\n",
       "      <td>0.0</td>\n",
       "      <td>0.0</td>\n",
       "      <td>0.0</td>\n",
       "      <td>0.0</td>\n",
       "      <td>0.0</td>\n",
       "      <td>0.0</td>\n",
       "      <td>0.0</td>\n",
       "      <td>0.0</td>\n",
       "      <td>0.0</td>\n",
       "      <td>1.0</td>\n",
       "    </tr>\n",
       "  </tbody>\n",
       "</table>\n",
       "<p>5 rows × 33 columns</p>\n",
       "</div>"
      ],
      "text/plain": [
       "     amt  is_fraud  distance_user_local  age  seconds_between_transaction  \\\n",
       "0   9.33         0             1.007351   38                          0.0   \n",
       "1   1.79         0             0.031852   38                        562.0   \n",
       "2  14.65         0             0.979536   38                      11338.0   \n",
       "3   8.82         0             0.465446   38                        276.0   \n",
       "4   4.86         0             0.554224   38                          0.0   \n",
       "\n",
       "   gender_M  category_food_dining  category_gas_transport  \\\n",
       "0       0.0                   0.0                     0.0   \n",
       "1       0.0                   0.0                     0.0   \n",
       "2       0.0                   0.0                     0.0   \n",
       "3       0.0                   0.0                     0.0   \n",
       "4       0.0                   0.0                     0.0   \n",
       "\n",
       "   category_grocery_net  category_grocery_pos  ...  category_grocery_pos  \\\n",
       "0                   0.0                   0.0  ...                   0.0   \n",
       "1                   0.0                   0.0  ...                   0.0   \n",
       "2                   0.0                   0.0  ...                   0.0   \n",
       "3                   0.0                   0.0  ...                   0.0   \n",
       "4                   0.0                   0.0  ...                   0.0   \n",
       "\n",
       "   category_health_fitness  category_home  category_kids_pets  \\\n",
       "0                      0.0            0.0                 0.0   \n",
       "1                      0.0            0.0                 0.0   \n",
       "2                      0.0            1.0                 0.0   \n",
       "3                      0.0            0.0                 0.0   \n",
       "4                      0.0            0.0                 0.0   \n",
       "\n",
       "   category_misc_net  category_misc_pos  category_personal_care  \\\n",
       "0                0.0                0.0                     0.0   \n",
       "1                0.0                0.0                     1.0   \n",
       "2                0.0                0.0                     0.0   \n",
       "3                0.0                0.0                     0.0   \n",
       "4                0.0                0.0                     0.0   \n",
       "\n",
       "   category_shopping_net  category_shopping_pos  category_travel  \n",
       "0                    0.0                    1.0              0.0  \n",
       "1                    0.0                    0.0              0.0  \n",
       "2                    0.0                    0.0              0.0  \n",
       "3                    1.0                    0.0              0.0  \n",
       "4                    0.0                    0.0              1.0  \n",
       "\n",
       "[5 rows x 33 columns]"
      ]
     },
     "execution_count": 39,
     "metadata": {},
     "output_type": "execute_result"
    }
   ],
   "source": [
    "df.head()"
   ]
  },
  {
   "cell_type": "code",
   "execution_count": 37,
   "metadata": {},
   "outputs": [],
   "source": [
    "df.drop( columns= ['trans_date_trans_time','cc_num'], inplace= True)"
   ]
  },
  {
   "cell_type": "code",
   "execution_count": 38,
   "metadata": {},
   "outputs": [],
   "source": [
    "df.drop_duplicates(inplace=True)"
   ]
  },
  {
   "cell_type": "code",
   "execution_count": 28,
   "metadata": {},
   "outputs": [
    {
     "data": {
      "text/plain": [
       "<Axes: xlabel='is_fraud', ylabel='distance_user_local'>"
      ]
     },
     "execution_count": 28,
     "metadata": {},
     "output_type": "execute_result"
    },
    {
     "data": {
      "image/png": "[encoded data removed]",
      "text/plain": [
       "<Figure size 640x480 with 1 Axes>"
      ]
     },
     "metadata": {},
     "output_type": "display_data"
    }
   ],
   "source": [
    "sns.boxplot(data, y= 'distance_user_local', x = 'is_fraud')"
   ]
  },
  {
   "cell_type": "code",
   "execution_count": 29,
   "metadata": {},
   "outputs": [
    {
     "data": {
      "text/plain": [
       "<Axes: xlabel='is_fraud', ylabel='amt'>"
      ]
     },
     "execution_count": 29,
     "metadata": {},
     "output_type": "execute_result"
    },
    {
     "data": {
      "image/png": "[encoded data removed]",
      "text/plain": [
       "<Figure size 640x480 with 1 Axes>"
      ]
     },
     "metadata": {},
     "output_type": "display_data"
    }
   ],
   "source": [
    "sns.boxplot(data, y= 'amt', x = 'is_fraud')"
   ]
  },
  {
   "cell_type": "code",
   "execution_count": 30,
   "metadata": {},
   "outputs": [
    {
     "data": {
      "text/plain": [
       "<Axes: xlabel='is_fraud', ylabel='age'>"
      ]
     },
     "execution_count": 30,
     "metadata": {},
     "output_type": "execute_result"
    },
    {
     "data": {
      "image/png": "[encoded data removed]",
      "text/plain": [
       "<Figure size 640x480 with 1 Axes>"
      ]
     },
     "metadata": {},
     "output_type": "display_data"
    }
   ],
   "source": [
    "sns.boxplot(data, y= 'age', x = 'is_fraud')"
   ]
  },
  {
   "cell_type": "code",
   "execution_count": 44,
   "metadata": {},
   "outputs": [
    {
     "data": {
      "text/plain": [
       "Index(['amt', 'is_fraud', 'distance_user_local', 'age',\n",
       "       'seconds_between_transaction', 'gender_M', 'category_food_dining',\n",
       "       'category_gas_transport', 'category_grocery_net',\n",
       "       'category_grocery_pos', 'category_health_fitness', 'category_home',\n",
       "       'category_kids_pets', 'category_misc_net', 'category_misc_pos',\n",
       "       'category_personal_care', 'category_shopping_net',\n",
       "       'category_shopping_pos', 'category_travel', 'gender_M',\n",
       "       'category_food_dining', 'category_gas_transport',\n",
       "       'category_grocery_net', 'category_grocery_pos',\n",
       "       'category_health_fitness', 'category_home', 'category_kids_pets',\n",
       "       'category_misc_net', 'category_misc_pos', 'category_personal_care',\n",
       "       'category_shopping_net', 'category_shopping_pos', 'category_travel'],\n",
       "      dtype='object')"
      ]
     },
     "execution_count": 44,
     "metadata": {},
     "output_type": "execute_result"
    }
   ],
   "source": [
    "df.columns"
   ]
  },
  {
   "cell_type": "code",
   "execution_count": 86,
   "metadata": {},
   "outputs": [],
   "source": [
    "from sklearn.decomposition import PCA\n",
    "from sklearn.cluster import KMeans\n",
    "from sklearn.preprocessing import StandardScaler\n",
    "import matplotlib.pyplot as plt"
   ]
  },
  {
   "cell_type": "code",
   "execution_count": 49,
   "metadata": {},
   "outputs": [],
   "source": [
    "df = df.drop_duplicates()"
   ]
  },
  {
   "cell_type": "code",
   "execution_count": 66,
   "metadata": {},
   "outputs": [],
   "source": [
    "scaler = StandardScaler()\n",
    "df_scaled = scaler.fit_transform(df[['amt', 'is_fraud', 'distance_user_local', 'age','seconds_between_transaction']])"
   ]
  },
  {
   "cell_type": "code",
   "execution_count": 82,
   "metadata": {},
   "outputs": [],
   "source": [
    "np_array = np.concatenate((df_scaled, df[encoder.get_feature_names_out(cat_columns)].to_numpy()), axis=1)"
   ]
  },
  {
   "cell_type": "code",
   "execution_count": 88,
   "metadata": {},
   "outputs": [
    {
     "data": {
      "image/png": "[encoded data removed]",
      "text/plain": [
       "<Figure size 640x480 with 1 Axes>"
      ]
     },
     "metadata": {},
     "output_type": "display_data"
    }
   ],
   "source": [
    "# Apply PCA\n",
    "pca = PCA(n_components=len(np_array[0]))  # You can adjust the number of components\n",
    "df_pca = pca.fit_transform(np_array)\n",
    "\n",
    "# Plot the explained variance ratio\n",
    "explained_variance_ratio = pca.explained_variance_ratio_\n",
    "plt.bar(range(1, len(explained_variance_ratio) + 1), explained_variance_ratio)\n",
    "plt.xlabel('Principal Component')\n",
    "plt.ylabel('Explained Variance Ratio')\n",
    "plt.title('Explained Variance Ratio of Principal Components')\n",
    "plt.show()\n"
   ]
  },
  {
   "cell_type": "code",
   "execution_count": null,
   "metadata": {},
   "outputs": [],
   "source": [
    "from sklearn.metrics import silhouette_score"
   ]
  }
 ],
 "metadata": {
  "kernelspec": {
   "display_name": "base",
   "language": "python",
   "name": "python3"
  },
  "language_info": {
   "codemirror_mode": {
    "name": "ipython",
    "version": 3
   },
   "file_extension": ".py",
   "mimetype": "text/x-python",
   "name": "python",
   "nbconvert_exporter": "python",
   "pygments_lexer": "ipython3",
   "version": "3.11.4"
  }
 },
 "nbformat": 4,
 "nbformat_minor": 2
}
